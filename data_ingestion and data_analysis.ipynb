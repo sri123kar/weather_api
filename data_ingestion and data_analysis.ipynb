{
 "cells": [
  {
   "cell_type": "markdown",
   "id": "5c6cc1aa",
   "metadata": {},
   "source": [
    "# Installing required packages"
   ]
  },
  {
   "cell_type": "code",
   "execution_count": 22,
   "id": "0f7488ba",
   "metadata": {},
   "outputs": [
    {
     "name": "stdout",
     "output_type": "stream",
     "text": [
      "Requirement already satisfied: mysql-connector-python in c:\\users\\srika\\anaconda3\\lib\\site-packages (8.0.32)\n",
      "Requirement already satisfied: protobuf<=3.20.3,>=3.11.0 in c:\\users\\srika\\anaconda3\\lib\\site-packages (from mysql-connector-python) (3.20.3)\n"
     ]
    }
   ],
   "source": [
    "!pip install mysql-connector-python"
   ]
  },
  {
   "cell_type": "markdown",
   "id": "d3588845",
   "metadata": {},
   "source": [
    "# Importing the packages"
   ]
  },
  {
   "cell_type": "code",
   "execution_count": 23,
   "id": "290b0309",
   "metadata": {},
   "outputs": [],
   "source": [
    "import pandas as pd\n",
    "import numpy as np\n",
    "import os\n",
    "import csv\n",
    "from pandas import ExcelWriter\n",
    "import os.path as path\n",
    "import mysql.connector\n",
    "from mysql.connector import Error\n",
    "import logging"
   ]
  },
  {
   "cell_type": "markdown",
   "id": "7f682dda",
   "metadata": {},
   "source": [
    "# Entering the file location "
   ]
  },
  {
   "cell_type": "code",
   "execution_count": 46,
   "id": "2c491afa",
   "metadata": {},
   "outputs": [
    {
     "name": "stdout",
     "output_type": "stream",
     "text": [
      "Enter the file location where all the text file is presentC:/Users/srika/Desktop/corteva\n"
     ]
    }
   ],
   "source": [
    "source_loc = input(\"Enter the file location where all the text file is present\")"
   ]
  },
  {
   "cell_type": "markdown",
   "id": "fdef8aab",
   "metadata": {},
   "source": [
    "# Reading the file Name"
   ]
  },
  {
   "cell_type": "code",
   "execution_count": 47,
   "id": "e5d0b29f",
   "metadata": {},
   "outputs": [],
   "source": [
    "#file_type = \".txt\"\n",
    "direc = os.listdir(source_loc)"
   ]
  },
  {
   "cell_type": "markdown",
   "id": "2bd317c0",
   "metadata": {},
   "source": [
    "### Function for removing .txt from files name so that we can get station code from txt file name"
   ]
  },
  {
   "cell_type": "code",
   "execution_count": 48,
   "id": "7caef82d",
   "metadata": {},
   "outputs": [],
   "source": [
    "def removedottxt(str):\n",
    "    newstr =\"\"\n",
    "    for i in str:\n",
    "        if (i=='.'):\n",
    "            return newstr;\n",
    "        newstr = newstr + i \n",
    "        \n"
   ]
  },
  {
   "cell_type": "markdown",
   "id": "4c33fa89",
   "metadata": {},
   "source": [
    "### Function for changing the date formate YYYYMMDD to YYYY-MM-DD"
   ]
  },
  {
   "cell_type": "code",
   "execution_count": 49,
   "id": "890b7fb0",
   "metadata": {},
   "outputs": [],
   "source": [
    "def converIntoDataFormate(inputString):\n",
    "    inputString = inputString = inputString[:4] + '-' + inputString[4:6] + '-' + inputString[6:]\n",
    "    return inputString"
   ]
  },
  {
   "cell_type": "markdown",
   "id": "1c306331",
   "metadata": {},
   "source": [
    "### function for adding NULL in the query where data is not present"
   ]
  },
  {
   "cell_type": "code",
   "execution_count": 50,
   "id": "ff404240",
   "metadata": {},
   "outputs": [],
   "source": [
    "def removingUndefinedValue(str):\n",
    "    return str.replace(\"None\", \"Null\")"
   ]
  },
  {
   "cell_type": "markdown",
   "id": "1d6515d1",
   "metadata": {},
   "source": [
    "### Function for creating the table which has average values"
   ]
  },
  {
   "cell_type": "code",
   "execution_count": 51,
   "id": "71dc5bf9",
   "metadata": {},
   "outputs": [],
   "source": [
    "def CreateStatTableForStation(stationcode):\n",
    "    try:\n",
    "        con = mysql.connector.connect(host=\"localhost\",user=\"root\",password=\"toor\",database=\"weatherdataapp\",charset=\"utf8\")\n",
    "        cur = con.cursor()\n",
    "        query = \"select year(DT) from weather where StationCode = '\"+stationcode+\"' group by year(DT);\"\n",
    "        cur.execute(query)\n",
    "        data = cur.fetchall()\n",
    "        con.commit()\n",
    "        for year in data:\n",
    "            query = \"select AVG(MaxTemp),AVG(MinTemp),sum(precipitation) from weather where year(DT)= \"+str(year[0])+\" AND StationCode = '\"+stationcode+\"';\"\n",
    "            cur.execute(query)\n",
    "            avgdata = cur.fetchall()\n",
    "            query = \"insert into weatherstat (year,StationCode,AverageMaxTemp,AverageMinTemp,Totalprecipitation)values(\"+str(year[0])+\",'\"+stationcode+\"',\"+str(avgdata[0][0])+\",\"+str(avgdata[0][1])+\",\"+str(avgdata[0][2])+\")\"\n",
    "            cur.execute(query)\n",
    "        con.commit()\n",
    "        con.close()\n",
    "    except Error as e:\n",
    "        print(e)\n",
    "    finally:\n",
    "        if(con.is_connected()):\n",
    "            con.close()  "
   ]
  },
  {
   "cell_type": "markdown",
   "id": "6b81e556",
   "metadata": {},
   "source": [
    "### for Keeping track of  the how many files is uploaded and how many is left"
   ]
  },
  {
   "cell_type": "code",
   "execution_count": 52,
   "id": "2f1c356e",
   "metadata": {},
   "outputs": [],
   "source": [
    "totalcount = 0\n",
    "for file in direc:\n",
    "    if file.endswith(\".txt\"):\n",
    "       totalcount = totalcount+1 "
   ]
  },
  {
   "cell_type": "markdown",
   "id": "abd1181f",
   "metadata": {},
   "source": [
    "### Function for sending data in the database "
   ]
  },
  {
   "cell_type": "code",
   "execution_count": 53,
   "id": "25099b28",
   "metadata": {},
   "outputs": [],
   "source": [
    "def dataframetosql(dataframe,station_code):\n",
    "    try:\n",
    "        con = mysql.connector.connect(host=\"localhost\",user=\"root\",password=\"toor\",database=\"weatherdataapp\",charset=\"utf8\")\n",
    "        cur = con.cursor()\n",
    "        query = \"select StationCode from weather where StationCode = '\"+ station_code+ \"' Limit 1;\"\n",
    "        cur.execute(query)\n",
    "        data = cur.fetchone()\n",
    "        for(row,rs) in dataframe.iterrows():\n",
    "            date = converIntoDataFormate(str(rs[0]))\n",
    "            maxtemp = str(rs[1])\n",
    "            mintemp = str(rs[2])\n",
    "            prep = str(rs[3])\n",
    "            if (data):\n",
    "                logging.basicConfig(filename=\"log.txt\", level=logging.DEBUG)\n",
    "                log_string = \"data is already inserted for station Code : \"+ station_code + \": please put data merg.csv and run mergData function\"\n",
    "                logging.debug(log_string)\n",
    "                break;\n",
    "            query = \"insert into weather (StationCode,DT,MaxTemp,MinTemp,precipitation) values(\"+\"'\"+station_code+\"',\"+ \"'\"+date+\"'\"+\",\"+maxtemp+\",\"+mintemp+\",\"+prep+\");\"\n",
    "            query = removingUndefinedValue(query)\n",
    "            cur.execute(query)\n",
    "        con.commit()\n",
    "        if(data):\n",
    "            print(\"Already Uploaded\")\n",
    "            print(\"---------------------------------------------------------------------\")\n",
    "        else:\n",
    "            log_string = \"No of record inserted : \"+ str(df.shape[0]) + \", for Station Code : \"+ station_code\n",
    "            logging.basicConfig(filename=\"log.txt\", level=logging.DEBUG)\n",
    "            logging.debug(log_string)\n",
    "            CreateStatTableForStation(station_code)\n",
    "            print(\"Uploaded\")\n",
    "            print(\"---------------------------------------------------------------------\")\n",
    "    except Error as e:\n",
    "        print(e)\n",
    "    finally:\n",
    "        if(con.is_connected()):\n",
    "            con.close()     "
   ]
  },
  {
   "cell_type": "markdown",
   "id": "2cb1256b",
   "metadata": {},
   "source": [
    "### funtion for reading the file converting into dataframe and call above function"
   ]
  },
  {
   "cell_type": "code",
   "execution_count": 55,
   "id": "fd15ba43",
   "metadata": {},
   "outputs": [
    {
     "name": "stdout",
     "output_type": "stream",
     "text": [
      "Total station : 23\n",
      "USC00110072.txt\n",
      "data uploading is start in database for station code :  USC00110072\n",
      "Total station left : 22\n",
      "uploading........\n",
      "Already Uploaded\n",
      "---------------------------------------------------------------------\n",
      "USC00110187.txt\n",
      "data uploading is start in database for station code :  USC00110187\n",
      "Total station left : 21\n",
      "uploading........\n",
      "Already Uploaded\n",
      "---------------------------------------------------------------------\n",
      "USC00110338.txt\n",
      "data uploading is start in database for station code :  USC00110338\n",
      "Total station left : 20\n",
      "uploading........\n",
      "Already Uploaded\n",
      "---------------------------------------------------------------------\n",
      "USC00111280.txt\n",
      "data uploading is start in database for station code :  USC00111280\n",
      "Total station left : 19\n",
      "uploading........\n",
      "Already Uploaded\n",
      "---------------------------------------------------------------------\n",
      "USC00111436.txt\n",
      "data uploading is start in database for station code :  USC00111436\n",
      "Total station left : 18\n",
      "uploading........\n",
      "Already Uploaded\n",
      "---------------------------------------------------------------------\n",
      "USC00112140.txt\n",
      "data uploading is start in database for station code :  USC00112140\n",
      "Total station left : 17\n",
      "uploading........\n",
      "Already Uploaded\n",
      "---------------------------------------------------------------------\n",
      "USC00112193.txt\n",
      "data uploading is start in database for station code :  USC00112193\n",
      "Total station left : 16\n",
      "uploading........\n",
      "Already Uploaded\n",
      "---------------------------------------------------------------------\n",
      "USC00112348.txt\n",
      "data uploading is start in database for station code :  USC00112348\n",
      "Total station left : 15\n",
      "uploading........\n",
      "Already Uploaded\n",
      "---------------------------------------------------------------------\n",
      "USC00112483.txt\n",
      "data uploading is start in database for station code :  USC00112483\n",
      "Total station left : 14\n",
      "uploading........\n",
      "Already Uploaded\n",
      "---------------------------------------------------------------------\n",
      "USC00113335.txt\n",
      "data uploading is start in database for station code :  USC00113335\n",
      "Total station left : 13\n",
      "uploading........\n",
      "Already Uploaded\n",
      "---------------------------------------------------------------------\n",
      "USC00113879.txt\n",
      "data uploading is start in database for station code :  USC00113879\n",
      "Total station left : 12\n",
      "uploading........\n",
      "Already Uploaded\n",
      "---------------------------------------------------------------------\n",
      "USC00114108.txt\n",
      "data uploading is start in database for station code :  USC00114108\n",
      "Total station left : 11\n",
      "uploading........\n",
      "Already Uploaded\n",
      "---------------------------------------------------------------------\n",
      "USC00114198.txt\n",
      "data uploading is start in database for station code :  USC00114198\n",
      "Total station left : 10\n",
      "uploading........\n",
      "Already Uploaded\n",
      "---------------------------------------------------------------------\n",
      "USC00114442.txt\n",
      "data uploading is start in database for station code :  USC00114442\n",
      "Total station left : 9\n",
      "uploading........\n",
      "Already Uploaded\n",
      "---------------------------------------------------------------------\n",
      "USC00114823.txt\n",
      "data uploading is start in database for station code :  USC00114823\n",
      "Total station left : 8\n",
      "uploading........\n",
      "Already Uploaded\n",
      "---------------------------------------------------------------------\n",
      "USC00115079.txt\n",
      "data uploading is start in database for station code :  USC00115079\n",
      "Total station left : 7\n",
      "uploading........\n",
      "Already Uploaded\n",
      "---------------------------------------------------------------------\n",
      "USC00115326.txt\n",
      "data uploading is start in database for station code :  USC00115326\n",
      "Total station left : 6\n",
      "uploading........\n",
      "Already Uploaded\n",
      "---------------------------------------------------------------------\n",
      "USC00115515.txt\n",
      "data uploading is start in database for station code :  USC00115515\n",
      "Total station left : 5\n",
      "uploading........\n",
      "Already Uploaded\n",
      "---------------------------------------------------------------------\n",
      "USC00334189.txt\n",
      "data uploading is start in database for station code :  USC00334189\n",
      "Total station left : 4\n",
      "uploading........\n",
      "Already Uploaded\n",
      "---------------------------------------------------------------------\n",
      "USC00335041.txt\n",
      "data uploading is start in database for station code :  USC00335041\n",
      "Total station left : 3\n",
      "uploading........\n",
      "Already Uploaded\n",
      "---------------------------------------------------------------------\n",
      "USC00335297.txt\n",
      "data uploading is start in database for station code :  USC00335297\n",
      "Total station left : 2\n",
      "uploading........\n",
      "Already Uploaded\n",
      "---------------------------------------------------------------------\n",
      "USC00335315.txt\n",
      "data uploading is start in database for station code :  USC00335315\n",
      "Total station left : 1\n",
      "uploading........\n",
      "Already Uploaded\n",
      "---------------------------------------------------------------------\n"
     ]
    }
   ],
   "source": [
    "count = 1\n",
    "print (\"Total station :\",totalcount)\n",
    "for file in direc:\n",
    "    if file.endswith(\".txt\"):\n",
    "        #source_loc = source_loc + file\n",
    "        header = [\"date\",\"Max\",\"Min\",\"prep\"]\n",
    "        station_code = removedottxt(file);\n",
    "        if (station_code=='log'):\n",
    "            continue\n",
    "        print(file)\n",
    "        df = pd.read_csv(file , encoding=\"utf-8\",delimiter='\\t',names=header)\n",
    "        df.replace(-9999,None,inplace =True)\n",
    "        \n",
    "        leftcount = totalcount-count\n",
    "        print(\"data uploading is start in database for station code : \",station_code)\n",
    "        print(\"Total station left :\",leftcount)\n",
    "        print(\"uploading........\")\n",
    "        dataframetosql(df,station_code);\n",
    "        count = count+1"
   ]
  },
  {
   "cell_type": "markdown",
   "id": "6e857e3e",
   "metadata": {},
   "source": [
    "# run below script when we have to update the database"
   ]
  },
  {
   "cell_type": "markdown",
   "id": "2655a81c",
   "metadata": {},
   "source": [
    "#### create a  folder named merg where all text file is present and put the update text file in that folder"
   ]
  },
  {
   "cell_type": "code",
   "execution_count": 62,
   "id": "65907286",
   "metadata": {},
   "outputs": [
    {
     "name": "stdout",
     "output_type": "stream",
     "text": [
      "Enter the file location where update data is presentC:/Users/srika/Desktop/corteva/merg\n",
      "data is updated for station Code : USC00335315\n"
     ]
    }
   ],
   "source": [
    "def mergedata(source_loc):\n",
    "    file_type = \".txt\"\n",
    "    direc = os.listdir(source_loc)\n",
    "    for file in direc:\n",
    "        if file.endswith(\".txt\"):\n",
    "            header = [\"date\",\"Max\",\"Min\",\"prep\"]\n",
    "            datafile = source_loc+\"/\"+ file\n",
    "            df = pd.read_csv(datafile , encoding=\"utf-8\",delimiter='\\t',names=header)\n",
    "            df.replace(-9999,None,inplace =True)\n",
    "            station_code = removedottxt(file);\n",
    "            for(row,rs) in df.iterrows():\n",
    "                updateToDatabase(station_code,converIntoDataFormate(str(rs[0])),str(rs[1]),str(rs[2]),str(rs[3]))\n",
    "            \n",
    "def updateToDatabase(stationcode,date,maxtemp,mintemp,prep):\n",
    "    try:\n",
    "        con = mysql.connector.connect(host=\"localhost\",user=\"root\",password=\"toor\",database=\"weatherdataapp\",charset=\"utf8\")\n",
    "        cur = con.cursor()\n",
    "        query = \"UPDATE weather SET  MaxTemp = \"+maxtemp+\", MinTemp = \"+mintemp+\", precipitation = \"+prep+\" where StationCode = '\"+stationcode+\"'and DT = '\"+date+\"';\"\n",
    "        cur.execute(query)\n",
    "        query = \"select AVG(MaxTemp),AVG(MinTemp),sum(precipitation) from weather where year(DT)= \"+date[0:4]+\" AND StationCode = '\"+stationcode+\"';\"\n",
    "        cur.execute(query)\n",
    "        avgdata = cur.fetchone()\n",
    "        query = \"update weatherstat set AverageMaxTemp = \"+str(avgdata[0])+\", AverageMinTemp = \"+str(avgdata[1])+\", Totalprecipitation = \"+str(avgdata[2])+\" where StationCode = '\"+stationcode+\"' and year = '\"+date[0:4]+\"';\"\n",
    "        cur.execute(query) \n",
    "        con.commit()\n",
    "    except Error as e:\n",
    "        print(e)\n",
    "    finally:\n",
    "        logging.basicConfig(filename=\"log.txt\", level=logging.DEBUG)\n",
    "        log_string = \"data is updated for station Code : \"+ station_code\n",
    "        logging.debug(log_string)\n",
    "        print(log_string)\n",
    "        if(con.is_connected()):\n",
    "            con.close()\n",
    "mergedata(input(\"Enter the file location where update data is present\"))"
   ]
  }
 ],
 "metadata": {
  "kernelspec": {
   "display_name": "Python 3 (ipykernel)",
   "language": "python",
   "name": "python3"
  },
  "language_info": {
   "codemirror_mode": {
    "name": "ipython",
    "version": 3
   },
   "file_extension": ".py",
   "mimetype": "text/x-python",
   "name": "python",
   "nbconvert_exporter": "python",
   "pygments_lexer": "ipython3",
   "version": "3.9.13"
  }
 },
 "nbformat": 4,
 "nbformat_minor": 5
}
